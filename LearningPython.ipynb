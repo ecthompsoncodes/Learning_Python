{
 "cells": [
  {
   "cell_type": "code",
   "execution_count": 4,
   "metadata": {},
   "outputs": [
    {
     "name": "stdout",
     "output_type": "stream",
     "text": [
      "elizabeth thompson\n",
      "o----\n",
      " ||||\n",
      "**********\n"
     ]
    }
   ],
   "source": [
    "print(\"elizabeth thompson\")\n",
    "# draw a dog\n",
    "print('o----')\n",
    "print(' ||||')\n",
    "# doesn't look like a dog to me\n",
    "print('*' * 10)\n",
    "# quotations = string, string = series of characters\n",
    "# this is an expression\n"
   ]
  },
  {
   "cell_type": "code",
   "execution_count": 7,
   "metadata": {},
   "outputs": [
    {
     "name": "stdout",
     "output_type": "stream",
     "text": [
      "10\n",
      "john smith 20 True\n"
     ]
    }
   ],
   "source": [
    "# Variables\n",
    "price = 10 #int\n",
    "# use this label to access value\n",
    "rating = 4.9 #float\n",
    "name = 'Elizabeth'\n",
    "is_published = True #boolean\n",
    "print(price)\n",
    "# Varibles for John Smith\n",
    "name = \"john smith\"\n",
    "age = 20\n",
    "is_new = True\n",
    "print(name, age, is_new)\n",
    "\n"
   ]
  },
  {
   "cell_type": "code",
   "execution_count": 7,
   "metadata": {},
   "outputs": [
    {
     "name": "stdout",
     "output_type": "stream",
     "text": [
      "Hello Elizabeth\n",
      "Elizabeth likes Yellow\n"
     ]
    }
   ],
   "source": [
    "# using input\n",
    "name = input('What is your name? ')\n",
    "# will print and wait for user to enter value\n",
    "print(\"Hello \" + name)\n",
    "color = input(\"What is your favorite color? \")\n",
    "print(name + \" likes \" + color)"
   ]
  },
  {
   "cell_type": "markdown",
   "metadata": {},
   "source": []
  },
  {
   "cell_type": "code",
   "execution_count": 9,
   "metadata": {},
   "outputs": [
    {
     "name": "stdout",
     "output_type": "stream",
     "text": [
      "<class 'str'>\n",
      "<class 'int'>\n",
      "25\n"
     ]
    }
   ],
   "source": [
    "birth_year = input('Birth year: ')\n",
    "print(type(birth_year))\n",
    "# convert into integer\n",
    "age = 2023-int(birth_year)\n",
    "print(type(age))\n",
    "print(age)"
   ]
  },
  {
   "cell_type": "code",
   "execution_count": 11,
   "metadata": {},
   "outputs": [
    {
     "name": "stdout",
     "output_type": "stream",
     "text": [
      "72.56235827664399\n"
     ]
    }
   ],
   "source": [
    "weight = input(\"What is your weight? \")\n",
    "kg = int(weight)/2.205\n",
    "print(kg)"
   ]
  },
  {
   "cell_type": "code",
   "execution_count": 11,
   "metadata": {},
   "outputs": [
    {
     "name": "stdout",
     "output_type": "stream",
     "text": [
      "Python's for Beginners\n",
      "Python for \"Beginners\"\n",
      "\n",
      "\n",
      "Hi John,\n",
      "Here is our first email to you.\n",
      "\n",
      "Thank you,\n",
      "The Support Team\n",
      "i\n",
      "m\n",
      "\n",
      "\n",
      "H\n",
      "John,\n",
      "Here is our first email to you.\n",
      "\n",
      "Thank you,\n",
      "The Support Team\n",
      "\n",
      "\n",
      "Hi \n",
      "\n",
      "\n",
      "Hi John,\n",
      "Here is our first email to you.\n",
      "\n",
      "Thank you,\n",
      "The Support Team\n"
     ]
    }
   ],
   "source": [
    "# more about python strings\n",
    "course = \"Python's for Beginners\"\n",
    "print(course)\n",
    "course = 'Python for \"Beginners\"'\n",
    "print(course)\n",
    "course = '''\n",
    "\n",
    "Hi John,\n",
    "Here is our first email to you.\n",
    "\n",
    "Thank you,\n",
    "The Support Team'''\n",
    "print(course)\n",
    "print(course[3])\n",
    "print(course[-1])\n",
    "# pay attention to square brackets!\n",
    "print(course[0:3])\n",
    "# returns characters from 0 to 3, but exludes 3\n",
    "print(course[5:])\n",
    "# starts from 5 and everything else\n",
    "print(course[:5])\n",
    "# 0 assume starting index\n",
    "another = course[:]\n",
    "# essentially copies the first\n",
    "print(another)"
   ]
  },
  {
   "cell_type": "code",
   "execution_count": 12,
   "metadata": {},
   "outputs": [
    {
     "name": "stdout",
     "output_type": "stream",
     "text": [
      "ennife\n"
     ]
    }
   ],
   "source": [
    "name = 'Jennifer'\n",
    "print(name[1:-1])\n",
    "# return characters starting from one until the end, stopping at the last character"
   ]
  },
  {
   "cell_type": "code",
   "execution_count": 16,
   "metadata": {},
   "outputs": [
    {
     "name": "stdout",
     "output_type": "stream",
     "text": [
      "john [smith] is a coder\n",
      "john [smith] is a coder\n"
     ]
    }
   ],
   "source": [
    "# Formatted Strings\n",
    "first = \"john\"\n",
    "last = 'smith'\n",
    "#john [smith] is a coder\n",
    "message = first + ' [' + last + '] is a coder'\n",
    "print(message)\n",
    "# not ideal\n",
    "msg = f'{first} [{last}] is a coder'\n",
    "print(message)"
   ]
  },
  {
   "cell_type": "code",
   "execution_count": 27,
   "metadata": {},
   "outputs": [
    {
     "name": "stdout",
     "output_type": "stream",
     "text": [
      "20\n",
      "PYTHON FOR BEGINNERS\n",
      "python for beginners\n",
      "4\n",
      "Python for Absolute Beginners\n",
      "Python for Beginners\n",
      "True\n"
     ]
    },
    {
     "ename": "TypeError",
     "evalue": "str.title() takes no arguments (1 given)",
     "output_type": "error",
     "traceback": [
      "\u001b[0;31m---------------------------------------------------------------------------\u001b[0m",
      "\u001b[0;31mTypeError\u001b[0m                                 Traceback (most recent call last)",
      "Cell \u001b[0;32mIn[27], line 15\u001b[0m\n\u001b[1;32m     13\u001b[0m \u001b[38;5;28mprint\u001b[39m(course)\n\u001b[1;32m     14\u001b[0m \u001b[38;5;28mprint\u001b[39m(\u001b[38;5;124m'\u001b[39m\u001b[38;5;124mPython\u001b[39m\u001b[38;5;124m'\u001b[39m \u001b[38;5;129;01min\u001b[39;00m course) \u001b[38;5;66;03m# check if Python in course --> Boolean expression\u001b[39;00m\n\u001b[0;32m---> 15\u001b[0m \u001b[38;5;28mprint\u001b[39m(\u001b[43mcourse\u001b[49m\u001b[38;5;241;43m.\u001b[39;49m\u001b[43mtitle\u001b[49m\u001b[43m(\u001b[49m\u001b[38;5;124;43m\"\u001b[39;49m\u001b[38;5;124;43mPython\u001b[39;49m\u001b[38;5;124;43m\"\u001b[39;49m\u001b[43m)\u001b[49m)\n",
      "\u001b[0;31mTypeError\u001b[0m: str.title() takes no arguments (1 given)"
     ]
    }
   ],
   "source": [
    "# string methods\n",
    "course = 'Python for Beginners'\n",
    "print(len(course))\n",
    "# len is general purpose function, can use to count number of items in list too\n",
    "print(course.upper())\n",
    "# method\n",
    "# creates new string and returns it, doesn't change original\n",
    "print(course.lower())\n",
    "print(course.find('o'))\n",
    "# index, case sensitive, -1 if not in string\n",
    "print(course.replace('Beginners', 'Absolute Beginners'))\n",
    "# doesn't change original againe\n",
    "print(course)\n",
    "print('Python' in course) # check if Python in course --> Boolean expression\n"
   ]
  },
  {
   "cell_type": "code",
   "execution_count": 33,
   "metadata": {},
   "outputs": [
    {
     "name": "stdout",
     "output_type": "stream",
     "text": [
      "3.3333333333333335\n",
      "3\n",
      "1\n",
      "1000\n",
      "13\n",
      "16\n",
      "16\n"
     ]
    }
   ],
   "source": [
    "# Arithmetics Operations in Python\n",
    "print(10/3) # gives float\n",
    "print(10//3) # gives int\n",
    "print(10%3) # gives remainder\n",
    "print(10**3) # power\n",
    "x = 10\n",
    "x = x + 3\n",
    "print(x)\n",
    "x += 3\n",
    "print(x)\n",
    "# augmented assignment operator\n",
    "\n",
    "x = 10 + 3 * 2\n",
    "# operator precedence, order of operations\n",
    "print(x)\n",
    "# remember PEMDAS\n",
    "# can use parantheses to change order of operations"
   ]
  },
  {
   "cell_type": "code",
   "execution_count": 38,
   "metadata": {},
   "outputs": [
    {
     "name": "stdout",
     "output_type": "stream",
     "text": [
      "3\n",
      "2.9\n",
      "3\n",
      "2\n"
     ]
    }
   ],
   "source": [
    "# Math Functions\n",
    "x = 2.9\n",
    "print(round(x))\n",
    "print(abs(-2.9))\n",
    "# always returns positive number\n",
    "\n",
    "import math\n",
    "print(math.ceil(2.9))\n",
    "print(math.floor(2.9))"
   ]
  },
  {
   "cell_type": "code",
   "execution_count": 46,
   "metadata": {},
   "outputs": [
    {
     "name": "stdout",
     "output_type": "stream",
     "text": [
      "It's a hot day.\n",
      "Drink plent of water.\n",
      "Enjoy your day!\n"
     ]
    }
   ],
   "source": [
    "# If Statements\n",
    "is_hot = True\n",
    "is_cold = False\n",
    "if is_hot:\n",
    "    print(\"It's a hot day.\")\n",
    "    print(\"Drink plent of water.\")\n",
    "elif is_cold:\n",
    "    print(\"It's a cold day.\")\n",
    "    print(\"Wear warm clothes.\")\n",
    "else:\n",
    "    print(\"It's a lovely day!\")\n",
    "print(\"Enjoy your day!\")"
   ]
  },
  {
   "cell_type": "code",
   "execution_count": 51,
   "metadata": {},
   "outputs": [
    {
     "name": "stdout",
     "output_type": "stream",
     "text": [
      "Down payment: $200000.0\n"
     ]
    }
   ],
   "source": [
    "# Exercise\n",
    "house = 1000000\n",
    "good_credit = False\n",
    "\n",
    "if good_credit:\n",
    "    down_payment = 0.1*house\n",
    "else:\n",
    "    down_payment = 0.2*house\n",
    "print(f\"Down payment: ${down_payment}\")\n",
    "\n"
   ]
  },
  {
   "cell_type": "code",
   "execution_count": 59,
   "metadata": {},
   "outputs": [
    {
     "name": "stdout",
     "output_type": "stream",
     "text": [
      "Eligible for loan\n",
      "Not eligible\n",
      "Eligible for loan\n"
     ]
    }
   ],
   "source": [
    "# Logical Operators\n",
    "has_high_income = False\n",
    "has_good_credit = True\n",
    "if has_high_income or has_good_credit:\n",
    "    # at least one condition is true\n",
    "    print(\"Eligible for loan\")\n",
    "else:\n",
    "    print(\"Not elible\")\n",
    "\n",
    "if has_high_income and has_good_credit:\n",
    "    # at least one condition is true\n",
    "    print(\"Eligible for loan\")\n",
    "else:\n",
    "    print(\"Not eligible\")\n",
    "\n",
    "has_criminal_record = False\n",
    "if has_good_credit and not has_criminal_record:\n",
    "    print(\"Eligible for loan\")"
   ]
  },
  {
   "cell_type": "code",
   "execution_count": 60,
   "metadata": {},
   "outputs": [
    {
     "name": "stdout",
     "output_type": "stream",
     "text": [
      "It's not a hot day\n"
     ]
    }
   ],
   "source": [
    "# Comparison Operators\n",
    "temperature = 30\n",
    "if temperature > 30: # also >=, <=, <, ==, != (not equal)\n",
    "    print(\"It's a hot day\")\n",
    "else:\n",
    "    print(\"It's not a hot day\")"
   ]
  },
  {
   "cell_type": "code",
   "execution_count": 69,
   "metadata": {},
   "outputs": [
    {
     "name": "stdout",
     "output_type": "stream",
     "text": [
      "name must be at least 3 characters\n"
     ]
    }
   ],
   "source": [
    "# exercise\n",
    "name = \"E\"\n",
    "if len(name) < 3:\n",
    "    print(\"name must be at least 3 characters\")\n",
    "elif len(name) > 50: # second condition for upper limit\n",
    "    print(\"name can be a maximum of 50 characters\")\n",
    "else:\n",
    "    print(\"name looks good!\")"
   ]
  },
  {
   "cell_type": "code",
   "execution_count": 82,
   "metadata": {},
   "outputs": [
    {
     "name": "stdout",
     "output_type": "stream",
     "text": [
      "You are 158.76 pounds.\n"
     ]
    }
   ],
   "source": [
    "# weight converter\n",
    "weight = input(\"Weight: \")\n",
    "meas = input(\"(L)bs or (K)g:\")\n",
    "conv = int(weight)*2.205\n",
    "if meas.upper() == \"L\":\n",
    "    conv2 = int(weight)*0.45\n",
    "    print(f\"You are {conv2} kilograms.\")\n",
    "elif meas.upper() == \"K\":\n",
    "    conv = int(weight)*2.205\n",
    "    print(f\"You are {conv} pounds.\")\n",
    "else:\n",
    "    print(\"Please double check if you wrote L for pounds or K for kilograms.\")"
   ]
  },
  {
   "cell_type": "code",
   "execution_count": 84,
   "metadata": {},
   "outputs": [
    {
     "name": "stdout",
     "output_type": "stream",
     "text": [
      "1\n",
      "2\n",
      "3\n",
      "4\n",
      "5\n",
      "Done\n",
      "*\n",
      "**\n",
      "***\n",
      "****\n",
      "*****\n",
      "Done\n"
     ]
    }
   ],
   "source": [
    "# while loops\n",
    "i = 1\n",
    "while i <= 5:\n",
    "    print(i)\n",
    "    i = i + 1\n",
    "    # indented, part of the while block\n",
    "print(\"Done\")\n",
    "\n",
    "i = 1\n",
    "while i <= 5:\n",
    "    print('*' * i)\n",
    "    i = i + 1\n",
    "    # indented, part of the while block\n",
    "print(\"Done\")"
   ]
  },
  {
   "cell_type": "code",
   "execution_count": 88,
   "metadata": {},
   "outputs": [
    {
     "name": "stdout",
     "output_type": "stream",
     "text": [
      "Sorry, you failed.\n"
     ]
    }
   ],
   "source": [
    "# guessing game\n",
    "secret_number = 9\n",
    "guess_count = 0\n",
    "guess_limit = 3\n",
    "while guess_count < guess_limit:\n",
    "    guess = int(input('Guess: '))\n",
    "    guess_count += 1\n",
    "    if guess == secret_number:\n",
    "        print(\"You won!\")\n",
    "        break # terminates loop\n",
    "else: \n",
    "    print(\"Sorry, you failed.\")\n"
   ]
  },
  {
   "cell_type": "code",
   "execution_count": 101,
   "metadata": {},
   "outputs": [],
   "source": [
    "# car game -- my try\n",
    "start = input()\n",
    "if start == \"help\":\n",
    "    car = input('''\n",
    "    start - to start the car\n",
    "    stop - to stop the car\n",
    "    quit - to exit''')\n",
    "else:\n",
    "    print(\"I don't understand that.\")\n",
    "\n",
    "while car == \"start\":\n",
    "    print(\"Car started... Ready to go!\")\n",
    "    if car == \"stop\":\n",
    "        print(\"Car stopped.\")\n",
    "        #if car == \"quit\":\n",
    "           # break\n",
    "        if car == \"quit\":\n",
    "            break\n"
   ]
  },
  {
   "cell_type": "code",
   "execution_count": 109,
   "metadata": {},
   "outputs": [
    {
     "name": "stdout",
     "output_type": "stream",
     "text": [
      "Car is already stopped.\n",
      "Car started... Ready to go!\n",
      "Car is already started!\n",
      "Car stopped.\n",
      "Car is already stopped.\n"
     ]
    }
   ],
   "source": [
    "command = \"\"\n",
    "started = False\n",
    "while True:\n",
    "    command = input(\"> \").lower() # command always lowercase\n",
    "    if command == \"start\":\n",
    "        if started:\n",
    "            print(\"Car is already started!\")\n",
    "        else:\n",
    "            started = True\n",
    "            print(\"Car started... Ready to go!\")\n",
    "    elif command == \"stop\":\n",
    "        if not started:\n",
    "            print(\"Car is already stopped.\")\n",
    "        else:\n",
    "            started = False\n",
    "            print(\"Car stopped.\")\n",
    "    elif command == \"help\":\n",
    "        print('''\n",
    "    start - to start the car\n",
    "    stop - to stop the car\n",
    "    quit - to exit''')\n",
    "    elif command == \"quit\":\n",
    "        break\n",
    "else:\n",
    "    print(\"I don't understand\")"
   ]
  },
  {
   "cell_type": "code",
   "execution_count": null,
   "metadata": {},
   "outputs": [],
   "source": []
  }
 ],
 "metadata": {
  "kernelspec": {
   "display_name": "Python 3.9.5 64-bit",
   "name": "python395jvsc74a57bd0aee8b7b246df8f9039afb4144a1f6fd8d2ca17a180786b69acc140d282b71a49"
  },
  "language_info": {
   "codemirror_mode": {
    "name": "ipython",
    "version": 3
   },
   "file_extension": ".py",
   "mimetype": "text/x-python",
   "name": "python",
   "nbconvert_exporter": "python",
   "pygments_lexer": "ipython3",
   "version": "3.9.5"
  },
  "metadata": {
   "interpreter": {
    "hash": "aee8b7b246df8f9039afb4144a1f6fd8d2ca17a180786b69acc140d282b71a49"
   }
  },
  "orig_nbformat": 2
 },
 "nbformat": 4,
 "nbformat_minor": 2
}